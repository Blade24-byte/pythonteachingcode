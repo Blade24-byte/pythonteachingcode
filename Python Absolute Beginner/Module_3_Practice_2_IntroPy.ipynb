{
 "cells": [
  {
   "cell_type": "markdown",
   "metadata": {},
   "source": [
    "# 1-5 Intro Python Practice  \n",
    "## conditionals, type, and mathematics extended   \n",
    "&nbsp;\n",
    "<font size=\"5\" color=\"#00A0B2\"  face=\"verdana\"> <B>Student will be able to</B></font>  \n",
    "- code more than two choices using **`elif`** \n",
    "- gather numeric input using type casting  \n",
    "- perform subtraction, multiplication and division operations in code  &nbsp;  \n"
   ]
  },
  {
   "cell_type": "markdown",
   "metadata": {},
   "source": [
    "# &nbsp;  \n",
    "<font size=\"6\" color=\"#B24C00\"  face=\"verdana\"> <B>Tasks</B></font>"
   ]
  },
  {
   "cell_type": "markdown",
   "metadata": {},
   "source": [
    "### Rainbow colors\n",
    "ask for input of a favorite rainbow color first letter: ROYGBIV  \n",
    "\n",
    "Using `if`, `elif`, and `else`:  \n",
    "- print the color matching the letter  \n",
    "    - R = Red  \n",
    "    - O = Orange  \n",
    "    - Y = Yellow  \n",
    "    - G = Green\n",
    "    - B = Blue\n",
    "    - I = Indigo\n",
    "    - V = Violet\n",
    "    - else print \"no match\"\n"
   ]
  },
  {
   "cell_type": "code",
   "execution_count": 2,
   "metadata": {},
   "outputs": [
    {
     "name": "stdout",
     "output_type": "stream",
     "text": [
      "Input your favorite rainbow color: r\n",
      "Your color is: Red\n"
     ]
    }
   ],
   "source": [
    "# [ ] complete rainbow colors\n",
    "rbow_color = input(\"Input your favorite rainbow color: \").upper()\n",
    "\n",
    "if rbow_color == \"R\":\n",
    "    print(\"Your color is: Red\")\n",
    "elif rbow_color == \"O\":\n",
    "    print(\"Your color is: Orange\")\n",
    "elif rbow_color == \"Y\":\n",
    "    print(\"Your color is: Yellow\")\n",
    "elif rbow_color == \"G\":\n",
    "    print(\"Your color is: Green\")\n",
    "elif rbow_color == \"B\":\n",
    "    print(\"Your color is: Blue\")\n",
    "elif rbow_color == \"I\":\n",
    "    print(\"Your color is: Indigo\")\n",
    "elif rbow_color == \"V\":\n",
    "    print(\"Your color is: Violet\")\n",
    "else:\n",
    "    print(\"No Match\")\n",
    "\n"
   ]
  },
  {
   "cell_type": "code",
   "execution_count": 3,
   "metadata": {},
   "outputs": [
    {
     "name": "stdout",
     "output_type": "stream",
     "text": [
      "Input your fave rainbow color: r\n",
      "Your color is: Red\n"
     ]
    }
   ],
   "source": [
    "# [ ] make the code above into a function rainbow_color() that has a string parameter, \n",
    "# get input and call the function and return the matching color as a string or \"no match\" message.\n",
    "# Call the function and print the return string.\n",
    "def rainbow_color(rbow_color):\n",
    "    if rbow_color == \"R\":\n",
    "        return \"Red\"\n",
    "    elif rbow_color == \"O\":\n",
    "        return \"Orange\"\n",
    "    elif rbow_color == \"Y\":\n",
    "        return \"Yellow\"\n",
    "    elif rbow_color == \"G\":\n",
    "        return \"Green\"\n",
    "    elif rbow_color == \"B\":\n",
    "        return \"Blue\"\n",
    "    elif rbow_color == \"I\":\n",
    "        return \"Indigo\"\n",
    "    elif rbow_color == \"V\":\n",
    "        return \"Violet\"\n",
    "    else:\n",
    "        return \"No Match\"\n",
    "\n",
    "    \n",
    "rbow_color = input(\"Input your fave rainbow color: \").upper()\n",
    "print(\"Your color is:\",rainbow_color(rbow_color))\n"
   ]
  },
  {
   "cell_type": "markdown",
   "metadata": {},
   "source": [
    "# &nbsp;  \n",
    "**Create function age_20() that adds or subtracts 20 from your age for a return value based on current age** (use `if`) \n",
    "- call the funtion with user input and then use the return value in a sentence  \n",
    "example `age_20(25)` returns **5**: \n",
    "> \"5 years old, 20 years difference from now\""
   ]
  },
  {
   "cell_type": "code",
   "execution_count": 4,
   "metadata": {},
   "outputs": [
    {
     "name": "stdout",
     "output_type": "stream",
     "text": [
      "Enter your age: 20\n",
      "0 years old, 20 years diff from now\n"
     ]
    }
   ],
   "source": [
    "# [ ] complete age_20()\n",
    "def age_20(age):\n",
    "    if int(age) >= 20:\n",
    "        return int(age)-20\n",
    "    else:\n",
    "        return 20-int(age)\n",
    "    \n",
    "your_age = input(\"Enter your age: \")\n",
    "\n",
    "if your_age.isdigit():\n",
    "    print(str(age_20(your_age)),\"years old, 20 years diff from now\")\n",
    "else:\n",
    "    print(\"Error: Invalid age\")\n"
   ]
  },
  {
   "cell_type": "markdown",
   "metadata": {},
   "source": [
    "**create a function rainbow_or_age that takes a string argument**\n",
    "- if argument is a digit return the value of calling age_20() with the str value cast as **`int`** \n",
    "- if argument is an alphabetical character return the value of calling rainbow_color() with the str\n",
    "- if neither return FALSE"
   ]
  },
  {
   "cell_type": "code",
   "execution_count": 5,
   "metadata": {},
   "outputs": [
    {
     "name": "stdout",
     "output_type": "stream",
     "text": [
      "Enter your color or age: 34\n"
     ]
    },
    {
     "data": {
      "text/plain": [
       "14"
      ]
     },
     "execution_count": 5,
     "metadata": {},
     "output_type": "execute_result"
    }
   ],
   "source": [
    "# [ ]  create rainbow_or_age()\n",
    "def rainbow_or_age(roa):\n",
    "    if roa.isdigit():\n",
    "        return age_20(roa)\n",
    "    elif roa.isalpha():\n",
    "        return rainbow_color(roa.upper())\n",
    "    else:\n",
    "        return False\n",
    "    \n",
    "rainbow_or_age(input(\"Enter your color or age: \"))\n"
   ]
  },
  {
   "cell_type": "code",
   "execution_count": 6,
   "metadata": {},
   "outputs": [
    {
     "name": "stdout",
     "output_type": "stream",
     "text": [
      "Enter #1: 1\n",
      "Enter #2: 2\n",
      "The Sum is 3\n"
     ]
    }
   ],
   "source": [
    "# [ ]  add 2 numbers from input using a cast to integer and display the answer \n",
    "\n",
    "num1 = input(\"Enter #1: \")\n",
    "num2 = input(\"Enter #2: \")\n",
    "\n",
    "if num1.isdigit() and num2.isdigit():\n",
    "    sum12 = int(num1) + int(num2)\n",
    "    print(\"The Sum is\",sum12)\n",
    "else:\n",
    "    print(\"Invalid input(s)\")"
   ]
  },
  {
   "cell_type": "code",
   "execution_count": 7,
   "metadata": {},
   "outputs": [
    {
     "name": "stdout",
     "output_type": "stream",
     "text": [
      "Enter #1: 1\n",
      "Enter #2: 2\n",
      "The Product is 2\n"
     ]
    }
   ],
   "source": [
    "# [ ] Multiply 2 numbers from input using cast and save the answer as part of a string \"the answer is...\"\n",
    "# display the string using print\n",
    "\n",
    "num1 = input(\"Enter #1: \")\n",
    "num2 = input(\"Enter #2: \")\n",
    "\n",
    "if num1.isdigit() and num2.isdigit():\n",
    "    prod12 = int(num1) * int(num2)\n",
    "    print(\"The Product is\",prod12)\n",
    "else:\n",
    "    print(\"Invalid input(s)\")"
   ]
  },
  {
   "cell_type": "code",
   "execution_count": 8,
   "metadata": {},
   "outputs": [
    {
     "name": "stdout",
     "output_type": "stream",
     "text": [
      "Enter #1: 1\n",
      "Enter #2: 2\n",
      "The Average is 1.5\n"
     ]
    }
   ],
   "source": [
    "# [ ] get input of 2 numbers and display the average: (num1 + num2) divided by 2\n",
    "\n",
    "num1 = input(\"Enter #1: \")\n",
    "num2 = input(\"Enter #2: \")\n",
    "\n",
    "if num1.isdigit() and num2.isdigit():\n",
    "    ave12 = (int(num1) + int(num2))/2\n",
    "    print(\"The Average is\",ave12)\n",
    "else:\n",
    "    print(\"Invalid input(s)\")"
   ]
  },
  {
   "cell_type": "code",
   "execution_count": 9,
   "metadata": {},
   "outputs": [
    {
     "name": "stdout",
     "output_type": "stream",
     "text": [
      "Enter #1: 1\n",
      "Enter #2: 2\n",
      "The Difference is 1\n"
     ]
    }
   ],
   "source": [
    "# [ ] get input of 2 numbers and subtract the largest from the smallest (use an if statement to see which is larger)\n",
    "# show the answer\n",
    "\n",
    "num3 = input(\"Enter #1: \")\n",
    "num4 = input(\"Enter #2: \")\n",
    "\n",
    "if num3.isdigit() and num4.isdigit():\n",
    "    int_num3 = int(num3)\n",
    "    int_num4 = int(num4)\n",
    "    if int_num3 >= int_num4:\n",
    "        diff12 = int_num3 - int_num4\n",
    "    else:\n",
    "        diff12 = int_num4 - int_num3\n",
    "    print(\"The Difference is\",diff12)\n",
    "else:\n",
    "    print(\"Invalid input(s)\")"
   ]
  },
  {
   "cell_type": "code",
   "execution_count": 12,
   "metadata": {},
   "outputs": [
    {
     "name": "stdout",
     "output_type": "stream",
     "text": [
      "Enter #1: 10\n",
      "Enter #2: 5\n",
      "The Quotient is 2\n"
     ]
    }
   ],
   "source": [
    "# [ ] Divide a larger number by a smaller number and print the integer part of the result\n",
    "# don't divide by zero! if a zero is input make the result zero\n",
    "# [ ] cast the answer to an integer to cut off the decimals and print the result\n",
    "\n",
    "num3 = input(\"Enter #1: \")\n",
    "num4 = input(\"Enter #2: \")\n",
    "\n",
    "if num3.isdigit() and num4.isdigit():\n",
    "    int_num3 = int(num3)\n",
    "    int_num4 = int(num4)\n",
    "    if int_num3 == 0 or int_num4 == 0:\n",
    "        quot12 = 0\n",
    "    elif int_num3 >= int_num4:\n",
    "        quot12 = int_num3 / int_num4\n",
    "    else:\n",
    "        quot12 = int_num4 / int_num3\n",
    "    print(\"The Quotient is\",int(quot12))\n",
    "else:\n",
    "    print(\"Invalid input(s)\")\n"
   ]
  },
  {
   "cell_type": "code",
   "execution_count": 13,
   "metadata": {},
   "outputs": [
    {
     "name": "stdout",
     "output_type": "stream",
     "text": [
      "3556 is a new student\n"
     ]
    }
   ],
   "source": [
    "id =3556\n",
    "if id > 2999:\n",
    "    print(id, \"is a new student\")"
   ]
  },
  {
   "cell_type": "code",
   "execution_count": 15,
   "metadata": {},
   "outputs": [
    {
     "name": "stdout",
     "output_type": "stream",
     "text": [
      "13.0\n"
     ]
    }
   ],
   "source": [
    "calc = 5 + 15 / 5 + 3 * 2 - 1\n",
    "print(calc)"
   ]
  },
  {
   "cell_type": "code",
   "execution_count": 16,
   "metadata": {},
   "outputs": [
    {
     "name": "stdout",
     "output_type": "stream",
     "text": [
      "Jin Xu is a string\n"
     ]
    }
   ],
   "source": [
    "name = \"Jin Xu\"\n",
    "if type(name) == type(\"Hello\") :\n",
    "    print(name, \"is a string\")\n",
    "else:\n",
    "    print(name, \"is not a string entry\")"
   ]
  },
  {
   "cell_type": "code",
   "execution_count": 34,
   "metadata": {},
   "outputs": [
    {
     "name": "stdout",
     "output_type": "stream",
     "text": [
      "21\n"
     ]
    }
   ],
   "source": [
    "x = 3 + 9 * 2\n",
    "print(x)"
   ]
  },
  {
   "cell_type": "code",
   "execution_count": 18,
   "metadata": {},
   "outputs": [
    {
     "name": "stdout",
     "output_type": "stream",
     "text": [
      "Be careful, hot plate!\n"
     ]
    }
   ],
   "source": [
    "hot_plate = True\n",
    "if hot_plate:\n",
    "    print(\"Be careful, hot plate!\")\n",
    "else:\n",
    "    print(\"The plate is ready\")"
   ]
  },
  {
   "cell_type": "markdown",
   "metadata": {},
   "source": [
    "[Terms of use](http://go.microsoft.com/fwlink/?LinkID=206977) &nbsp; [Privacy & cookies](https://go.microsoft.com/fwlink/?LinkId=521839) &nbsp; © 2017 Microsoft"
   ]
  }
 ],
 "metadata": {
  "anaconda-cloud": {},
  "kernelspec": {
   "display_name": "Python 3",
   "language": "python",
   "name": "python3"
  },
  "language_info": {
   "codemirror_mode": {
    "name": "ipython",
    "version": 3
   },
   "file_extension": ".py",
   "mimetype": "text/x-python",
   "name": "python",
   "nbconvert_exporter": "python",
   "pygments_lexer": "ipython3",
   "version": "3.7.6"
  }
 },
 "nbformat": 4,
 "nbformat_minor": 1
}
