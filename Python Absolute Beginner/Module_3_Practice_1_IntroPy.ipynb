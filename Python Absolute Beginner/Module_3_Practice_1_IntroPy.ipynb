{
 "cells": [
  {
   "cell_type": "markdown",
   "metadata": {},
   "source": [
    "# 1-4.3 Intro Python Practice\n",
    "## Conditionals \n",
    "<font size=\"5\" color=\"#00A0B2\"  face=\"verdana\"> <B>Student will be able to</B></font>  \n",
    "- **control code flow with `if`... `else` conditional logic**  \n",
    "  - using Boolean string methods (`.isupper(), .isalpha(), .startswith()...`)  \n",
    "  - using comparision (`>, <, >=, <=, ==, !=`)  \n",
    "  - using Strings in comparisons  "
   ]
  },
  {
   "cell_type": "markdown",
   "metadata": {},
   "source": [
    "## `if else`\n"
   ]
  },
  {
   "cell_type": "code",
   "execution_count": 2,
   "metadata": {},
   "outputs": [
    {
     "name": "stdout",
     "output_type": "stream",
     "text": [
      "Enter age10\n",
      "It is good to be 10\n"
     ]
    }
   ],
   "source": [
    "# [ ] input avariable: age as digit and cast to int\n",
    "# if age greater than or equal to 12 then print message on age in 10 years \n",
    "# or else print message \"It is good to be\" age\n",
    "age = int(input(\"Enter age\"))\n",
    "\n",
    "if age >= 12:\n",
    "    print(\"Your age in 10 years will be\", age + 10)\n",
    "    \n",
    "else:\n",
    "    print(\"It is good to be\", age)\n",
    "\n",
    "\n"
   ]
  },
  {
   "cell_type": "code",
   "execution_count": 3,
   "metadata": {},
   "outputs": [
    {
     "name": "stdout",
     "output_type": "stream",
     "text": [
      "Enter your number: 5\n",
      "greater than 100 is: False\n"
     ]
    }
   ],
   "source": [
    "# [ ] input a number \n",
    "# if number IS a digit string then cast to int\n",
    "# print number \"greater than 100 is\" True/False\n",
    "# if number is NOT a digit string then message the user that \"only int is accepted\"\n",
    "your_num = input(\"Enter your number: \")\n",
    "\n",
    "if your_num.isdigit():\n",
    "    print(\"greater than 100 is:\",int(your_num) > 100)\n",
    "else:\n",
    "    print(\"only int is accepted\")\n",
    "\n"
   ]
  },
  {
   "cell_type": "markdown",
   "metadata": {},
   "source": [
    "### Guessing a letter A-Z  \n",
    "**check_guess()** takes 2 string arguments: **letter and guess** (both expect single alphabetical character)   \n",
    "    - if guess is not an alpha character print invalid and return False\n",
    "    - test and print if guess is \"high\" or \"low\" and return False\n",
    "    - test and print if guess is \"correct\" and return True"
   ]
  },
  {
   "cell_type": "code",
   "execution_count": 8,
   "metadata": {},
   "outputs": [
    {
     "name": "stdout",
     "output_type": "stream",
     "text": [
      "Enter your guess: z\n",
      "high\n"
     ]
    },
    {
     "data": {
      "text/plain": [
       "False"
      ]
     },
     "execution_count": 8,
     "metadata": {},
     "output_type": "execute_result"
    }
   ],
   "source": [
    "# [ ] create check_guess()\n",
    "# call with test\n",
    "def check_guess(cg_letter, cg_guess):\n",
    "    if cg_guess.isalpha():\n",
    "        if cg_guess > cg_letter:\n",
    "            print(\"high\")\n",
    "            return False\n",
    "        elif cg_guess < cg_letter:\n",
    "            print(\"low\")\n",
    "            return False\n",
    "        else:\n",
    "            print(\"correct\")\n",
    "            return True\n",
    "    else:\n",
    "        print(\"Invalid input: please enter alpha character\")\n",
    "        return False\n",
    "\n",
    "letter = \"m\"\n",
    "\n",
    "check_guess(letter,input(\"Enter your guess: \"))\n",
    "\n"
   ]
  },
  {
   "cell_type": "code",
   "execution_count": 9,
   "metadata": {},
   "outputs": [
    {
     "name": "stdout",
     "output_type": "stream",
     "text": [
      "Enter your guess: x\n",
      "correct\n"
     ]
    },
    {
     "data": {
      "text/plain": [
       "True"
      ]
     },
     "execution_count": 9,
     "metadata": {},
     "output_type": "execute_result"
    }
   ],
   "source": [
    "# [ ] call check_guess with user input\n",
    "letter = \"x\"\n",
    "\n",
    "check_guess(letter,input(\"Enter your guess: \"))\n"
   ]
  },
  {
   "cell_type": "markdown",
   "metadata": {},
   "source": [
    "### Letter Guess\n",
    "**create letter_guess() function that gives user 3 guesses**\n",
    "- takes a letter character argument for the answer letter\n",
    "- gets user input for letter guess  \n",
    "- calls check_guess() with answer and guess\n",
    "- End letter_guess if \n",
    "    - check_guess() equals True, return True  \n",
    "    - or after 3 failed attempts, return False"
   ]
  },
  {
   "cell_type": "code",
   "execution_count": 13,
   "metadata": {},
   "outputs": [
    {
     "name": "stdout",
     "output_type": "stream",
     "text": [
      "Enter your guess b\n",
      "Correct!\n"
     ]
    }
   ],
   "source": [
    "# [ ] create letter_guess() function, call the function to test\n",
    "correctLetter = \"B\"\n",
    "tries = 3\n",
    "\n",
    "def letter_game(tries, correctLetter):\n",
    "    for i in range(tries):\n",
    "\n",
    "        guess = input (\"Enter your guess \")\n",
    "\n",
    "        if letter_check(correctLetter, guess) == True:\n",
    "            print(\"Correct!\")\n",
    "            break\n",
    "    if letter_check(correctLetter, guess) != True:\n",
    "        print(\"Game Over!\")\n",
    "\n",
    "def letter_check(l1, l2):\n",
    "    if l1 == l2.upper():\n",
    "        return True    \n",
    "    elif l1 > l2.upper():\n",
    "        print (\"You are wrong, but go closer to Z\")\n",
    "        return False\n",
    "    elif l1 < l2.upper():\n",
    "        print (\"You are wrong, but go closer to A\")\n",
    "        return False\n",
    "    else:\n",
    "        return False\n",
    "\n",
    "letter_game(tries, correctLetter)\n",
    "\n"
   ]
  },
  {
   "cell_type": "markdown",
   "metadata": {},
   "source": [
    "### Pet Conversation\n",
    "**ask the user for a sentence about a pet and then reply**  \n",
    "- get user input in variable: about_pet\n",
    "- using a series of **if** statements respond with appropriate conversation\n",
    "  - check if \"dog\" is in the string about_pet (sample reply \"Ah, a dog\")\n",
    "  - check if \"cat\" is in the string about_pet\n",
    "  - check if 1 or more animal is in string about_pet\n",
    "- no need for **else**'s\n",
    "- finish with thanking for the story"
   ]
  },
  {
   "cell_type": "code",
   "execution_count": 14,
   "metadata": {},
   "outputs": [
    {
     "name": "stdout",
     "output_type": "stream",
     "text": [
      "Your pet story: I have a cat named Oliver\n",
      "Oh, you have a cat\n",
      "Appreciate your pet story\n"
     ]
    }
   ],
   "source": [
    "# [ ] complete pet conversation\n",
    "\n",
    "about_pet = input(\"Your pet story: \").lower()\n",
    "\n",
    "if \"dog\" in about_pet:\n",
    "    print(\"Ah, a dog\")\n",
    "    if \"cat\" in about_pet:\n",
    "        print(\"...and you also have a cat!\")\n",
    "if \"cat\" in about_pet:\n",
    "    print(\"Oh, you have a cat\")\n",
    "    if \"dog\" in about_pet:\n",
    "        print(\"...and a dog as well!\")\n",
    "        \n",
    "print(\"Appreciate your pet story\")"
   ]
  },
  {
   "cell_type": "markdown",
   "metadata": {
    "collapsed": true
   },
   "source": [
    "[Terms of use](http://go.microsoft.com/fwlink/?LinkID=206977) &nbsp; [Privacy & cookies](https://go.microsoft.com/fwlink/?LinkId=521839) &nbsp; © 2017 Microsoft"
   ]
  }
 ],
 "metadata": {
  "anaconda-cloud": {},
  "kernelspec": {
   "display_name": "Python 3",
   "language": "python",
   "name": "python3"
  },
  "language_info": {
   "codemirror_mode": {
    "name": "ipython",
    "version": 3
   },
   "file_extension": ".py",
   "mimetype": "text/x-python",
   "name": "python",
   "nbconvert_exporter": "python",
   "pygments_lexer": "ipython3",
   "version": "3.7.6"
  }
 },
 "nbformat": 4,
 "nbformat_minor": 1
}
